{
 "cells": [
  {
   "cell_type": "markdown",
   "id": "e40f42bd-15bf-474f-9922-8c3b958cf7b1",
   "metadata": {},
   "source": [
    "# 1-4 TensorとPyTorch"
   ]
  },
  {
   "cell_type": "code",
   "execution_count": 1,
   "id": "1d594f79-77d5-40a0-bc5b-52bc996ad1fc",
   "metadata": {},
   "outputs": [],
   "source": [
    "import numpy as np\n",
    "import torch"
   ]
  },
  {
   "cell_type": "markdown",
   "id": "f1f98345-2ed9-4bc9-b1ac-45bea22de483",
   "metadata": {},
   "source": [
    "## 1.Tensorの作成"
   ]
  },
  {
   "cell_type": "code",
   "execution_count": 2,
   "id": "eb67d77e-56e6-42f2-8432-d15f1e43716d",
   "metadata": {},
   "outputs": [
    {
     "data": {
      "text/plain": [
       "tensor([0, 1, 2, 3])"
      ]
     },
     "execution_count": 2,
     "metadata": {},
     "output_type": "execute_result"
    }
   ],
   "source": [
    "torch.tensor([0, 1, 2, 3])"
   ]
  },
  {
   "cell_type": "markdown",
   "id": "a54e9a66-dd94-40bc-8422-1f22bd6dbd17",
   "metadata": {},
   "source": [
    "torch.tensor()の場合は自動的に型がfloatになる"
   ]
  },
  {
   "cell_type": "code",
   "execution_count": 4,
   "id": "8dd979d6-fe9a-49a5-8fe6-a2a6bb5eb432",
   "metadata": {},
   "outputs": [
    {
     "data": {
      "text/plain": [
       "tensor([0., 1., 2., 3.])"
      ]
     },
     "execution_count": 4,
     "metadata": {},
     "output_type": "execute_result"
    }
   ],
   "source": [
    "torch.Tensor([0, 1, 2, 3])"
   ]
  },
  {
   "cell_type": "code",
   "execution_count": 3,
   "id": "1b3abc01-27e9-45ca-8954-dd4563ae1d4d",
   "metadata": {},
   "outputs": [
    {
     "data": {
      "text/plain": [
       "array([0, 1, 2, 3])"
      ]
     },
     "execution_count": 3,
     "metadata": {},
     "output_type": "execute_result"
    }
   ],
   "source": [
    "np.array([0, 1, 2, 3])"
   ]
  },
  {
   "cell_type": "markdown",
   "id": "94b6e1c9-3faa-4735-8af5-126deb20be34",
   "metadata": {},
   "source": [
    "### 形状だけを指定"
   ]
  },
  {
   "cell_type": "code",
   "execution_count": 5,
   "id": "47030f96-52b2-415e-b36a-1ecd6dcb57da",
   "metadata": {},
   "outputs": [
    {
     "data": {
      "text/plain": [
       "tensor([[-2.1975e+07,  3.0830e-41, -2.1986e+07],\n",
       "        [ 3.0830e-41,  1.1210e-43,  0.0000e+00]])"
      ]
     },
     "execution_count": 5,
     "metadata": {},
     "output_type": "execute_result"
    }
   ],
   "source": [
    "torch.Tensor(2, 3)"
   ]
  },
  {
   "cell_type": "code",
   "execution_count": 7,
   "id": "9fd71676-afe0-4179-8e9b-eb0fdbf5e876",
   "metadata": {},
   "outputs": [
    {
     "data": {
      "text/plain": [
       "tensor([-2.1991e+07,  3.0830e-41, -2.1967e+07])"
      ]
     },
     "execution_count": 7,
     "metadata": {},
     "output_type": "execute_result"
    }
   ],
   "source": [
    "torch.Tensor(3)"
   ]
  },
  {
   "cell_type": "markdown",
   "id": "24e803ea-a4ac-4b87-ada9-332d42bd8253",
   "metadata": {},
   "source": [
    "### 連続"
   ]
  },
  {
   "cell_type": "code",
   "execution_count": 8,
   "id": "51c34347-2cea-46a3-ad73-73d6d1f6c5b2",
   "metadata": {},
   "outputs": [
    {
     "data": {
      "text/plain": [
       "tensor([0, 1, 2, 3, 4, 5, 6, 7, 8, 9])"
      ]
     },
     "execution_count": 8,
     "metadata": {},
     "output_type": "execute_result"
    }
   ],
   "source": [
    "torch.arange(10)"
   ]
  },
  {
   "cell_type": "code",
   "execution_count": 9,
   "id": "3c655e55-e016-4841-b8e5-72acb1a99432",
   "metadata": {},
   "outputs": [
    {
     "data": {
      "text/plain": [
       "array([0, 1, 2, 3, 4, 5, 6, 7, 8, 9])"
      ]
     },
     "execution_count": 9,
     "metadata": {},
     "output_type": "execute_result"
    }
   ],
   "source": [
    "np.arange(10)"
   ]
  },
  {
   "cell_type": "markdown",
   "id": "cb8c4225-cfc9-4c41-b080-8bca5673f887",
   "metadata": {},
   "source": [
    "### reshape"
   ]
  },
  {
   "cell_type": "code",
   "execution_count": 10,
   "id": "cba68af1-f3b1-4f33-9964-e63a02a36257",
   "metadata": {},
   "outputs": [
    {
     "data": {
      "text/plain": [
       "tensor([[0, 1, 2],\n",
       "        [3, 4, 5]])"
      ]
     },
     "execution_count": 10,
     "metadata": {},
     "output_type": "execute_result"
    }
   ],
   "source": [
    "torch.arange(6).reshape(2, 3)"
   ]
  },
  {
   "cell_type": "markdown",
   "id": "e8e0d435-8202-407b-b66e-678e458563d8",
   "metadata": {},
   "source": [
    "## 2.Tensorと数値の四則演算"
   ]
  },
  {
   "cell_type": "code",
   "execution_count": 13,
   "id": "c9cea3a4-8ff6-43f1-a54a-8efe6549c2f4",
   "metadata": {},
   "outputs": [
    {
     "data": {
      "text/plain": [
       "tensor([2, 3, 4, 5, 6])"
      ]
     },
     "execution_count": 13,
     "metadata": {},
     "output_type": "execute_result"
    }
   ],
   "source": [
    "a = torch.arange(5)\n",
    "a + 2"
   ]
  },
  {
   "cell_type": "code",
   "execution_count": 14,
   "id": "10a59df3-23cb-4a2c-a328-1fef5996676c",
   "metadata": {},
   "outputs": [
    {
     "data": {
      "text/plain": [
       "array([2, 3, 4, 5, 6])"
      ]
     },
     "execution_count": 14,
     "metadata": {},
     "output_type": "execute_result"
    }
   ],
   "source": [
    "a = np.arange(5)\n",
    "a + 2"
   ]
  },
  {
   "cell_type": "markdown",
   "id": "f75be3e6-cf99-40f6-8c44-b62dfb84f4e5",
   "metadata": {},
   "source": [
    "## 3. Tensor同士の四則演算"
   ]
  },
  {
   "cell_type": "code",
   "execution_count": 16,
   "id": "7fd358ca-f0da-49ca-8263-0afe7411e5ed",
   "metadata": {},
   "outputs": [
    {
     "name": "stdout",
     "output_type": "stream",
     "text": [
      "tensor([[0, 1, 2],\n",
      "        [3, 4, 5]])\n",
      "tensor([[1, 2, 3],\n",
      "        [4, 5, 6]])\n"
     ]
    },
    {
     "data": {
      "text/plain": [
       "tensor([[ 0,  2,  6],\n",
       "        [12, 20, 30]])"
      ]
     },
     "execution_count": 16,
     "metadata": {},
     "output_type": "execute_result"
    }
   ],
   "source": [
    "a = torch.arange(6).reshape(2, 3)\n",
    "b = a + 1\n",
    "\n",
    "print(a)\n",
    "print(b)\n",
    "\n",
    "a * b"
   ]
  },
  {
   "cell_type": "markdown",
   "id": "35079be2-c46c-4f16-970f-f7128ebfe974",
   "metadata": {},
   "source": [
    "## 4. tensor同士の行列計算"
   ]
  },
  {
   "cell_type": "markdown",
   "id": "edb1e7cc-c450-423c-a824-da6011f508a9",
   "metadata": {},
   "source": [
    "#### 内積：１次元どうしの行列積 dot, matmul"
   ]
  },
  {
   "cell_type": "code",
   "execution_count": 17,
   "id": "5b269329-1080-448a-aabf-e93b03734ecb",
   "metadata": {},
   "outputs": [],
   "source": [
    "a0 = torch.tensor([1, 2, 3, 4])\n",
    "a1 = torch.tensor([5, 6, 7, 8])"
   ]
  },
  {
   "cell_type": "code",
   "execution_count": 18,
   "id": "b8b6a0c8-cb4a-493f-bcdd-938c64a2ed88",
   "metadata": {},
   "outputs": [
    {
     "data": {
      "text/plain": [
       "tensor(70)"
      ]
     },
     "execution_count": 18,
     "metadata": {},
     "output_type": "execute_result"
    }
   ],
   "source": [
    "torch.dot(a0, a1)"
   ]
  },
  {
   "cell_type": "code",
   "execution_count": 19,
   "id": "44304823-f9eb-478e-9b53-6542a98dcbf5",
   "metadata": {},
   "outputs": [
    {
     "data": {
      "text/plain": [
       "tensor(70)"
      ]
     },
     "execution_count": 19,
     "metadata": {},
     "output_type": "execute_result"
    }
   ],
   "source": [
    "torch.matmul(a0, a1)"
   ]
  },
  {
   "cell_type": "markdown",
   "id": "3255a348-97ec-4016-bb75-119f89a4fb80",
   "metadata": {},
   "source": [
    "#### 行列とベクトルの行列積　mv, matmul"
   ]
  },
  {
   "cell_type": "code",
   "execution_count": 20,
   "id": "40ae9b7f-7c87-4781-9b0a-7a503a3299cb",
   "metadata": {},
   "outputs": [],
   "source": [
    "a0 = torch.tensor([1, 2, 3, 4])\n",
    "a1 = torch.arange(8).reshape(2, 4)"
   ]
  },
  {
   "cell_type": "code",
   "execution_count": 21,
   "id": "e642fb0b-af75-4051-8bdf-65a3aa864bc5",
   "metadata": {},
   "outputs": [
    {
     "data": {
      "text/plain": [
       "tensor([20, 60])"
      ]
     },
     "execution_count": 21,
     "metadata": {},
     "output_type": "execute_result"
    }
   ],
   "source": [
    "torch.mv(a1, a0)"
   ]
  },
  {
   "cell_type": "code",
   "execution_count": 22,
   "id": "e719dac1-41e3-40bc-9f46-eb7dda77c25a",
   "metadata": {},
   "outputs": [
    {
     "data": {
      "text/plain": [
       "tensor([20, 60])"
      ]
     },
     "execution_count": 22,
     "metadata": {},
     "output_type": "execute_result"
    }
   ],
   "source": [
    "torch.matmul(a1, a0)"
   ]
  },
  {
   "cell_type": "markdown",
   "id": "31765aa7-8864-45a1-9bd3-764e45557a36",
   "metadata": {},
   "source": [
    "#### 行列同士の行列積　mm, matmul"
   ]
  },
  {
   "cell_type": "code",
   "execution_count": 23,
   "id": "8e6b427f-3c14-4740-b43b-ce598edfc425",
   "metadata": {},
   "outputs": [],
   "source": [
    "a0 = torch.arange(8).reshape(2, 4)\n",
    "a1 = torch.arange(8).reshape(4, 2)"
   ]
  },
  {
   "cell_type": "code",
   "execution_count": 24,
   "id": "721171e4-c09f-4ed8-a9f4-d9d008ba5bff",
   "metadata": {},
   "outputs": [
    {
     "data": {
      "text/plain": [
       "tensor([[28, 34],\n",
       "        [76, 98]])"
      ]
     },
     "execution_count": 24,
     "metadata": {},
     "output_type": "execute_result"
    }
   ],
   "source": [
    "torch.mm(a0, a1)"
   ]
  },
  {
   "cell_type": "code",
   "execution_count": 25,
   "id": "5233d2c7-13bf-40c2-b78d-18d6876e4195",
   "metadata": {},
   "outputs": [
    {
     "data": {
      "text/plain": [
       "tensor([[28, 34],\n",
       "        [76, 98]])"
      ]
     },
     "execution_count": 25,
     "metadata": {},
     "output_type": "execute_result"
    }
   ],
   "source": [
    "torch.matmul(a0, a1)"
   ]
  },
  {
   "cell_type": "markdown",
   "id": "4decc122-7602-45be-992f-9befb7d5a9ee",
   "metadata": {},
   "source": [
    "## 5. Tensor同士のバッチの行列積"
   ]
  },
  {
   "cell_type": "markdown",
   "id": "1cf08966-7d99-4d47-83ff-988a4ca57289",
   "metadata": {},
   "source": [
    "関数bmm 関数matmul"
   ]
  },
  {
   "cell_type": "code",
   "execution_count": 27,
   "id": "da942654-89f1-45ec-9303-497362579c50",
   "metadata": {},
   "outputs": [
    {
     "data": {
      "text/plain": [
       "tensor([[[ 0,  1,  2,  3],\n",
       "         [ 4,  5,  6,  7]],\n",
       "\n",
       "        [[ 8,  9, 10, 11],\n",
       "         [12, 13, 14, 15]],\n",
       "\n",
       "        [[16, 17, 18, 19],\n",
       "         [20, 21, 22, 23]]])"
      ]
     },
     "execution_count": 27,
     "metadata": {},
     "output_type": "execute_result"
    }
   ],
   "source": [
    "a0 = torch.arange(24).reshape(-1, 2, 4)\n",
    "a0"
   ]
  },
  {
   "cell_type": "code",
   "execution_count": 28,
   "id": "0af70ba7-c5c3-49be-a7c7-99f2e06d9da6",
   "metadata": {},
   "outputs": [
    {
     "data": {
      "text/plain": [
       "tensor([[[ 0,  1],\n",
       "         [ 2,  3],\n",
       "         [ 4,  5],\n",
       "         [ 6,  7]],\n",
       "\n",
       "        [[ 8,  9],\n",
       "         [10, 11],\n",
       "         [12, 13],\n",
       "         [14, 15]],\n",
       "\n",
       "        [[16, 17],\n",
       "         [18, 19],\n",
       "         [20, 21],\n",
       "         [22, 23]]])"
      ]
     },
     "execution_count": 28,
     "metadata": {},
     "output_type": "execute_result"
    }
   ],
   "source": [
    "a1 = torch.arange(24).reshape(-1, 4, 2)\n",
    "a1"
   ]
  },
  {
   "cell_type": "code",
   "execution_count": 31,
   "id": "7bf76321-f8c5-4f5f-8637-0e84810b77db",
   "metadata": {},
   "outputs": [
    {
     "data": {
      "text/plain": [
       "tensor([[[  28,   34],\n",
       "         [  76,   98]],\n",
       "\n",
       "        [[ 428,  466],\n",
       "         [ 604,  658]],\n",
       "\n",
       "        [[1340, 1410],\n",
       "         [1644, 1730]]])"
      ]
     },
     "execution_count": 31,
     "metadata": {},
     "output_type": "execute_result"
    }
   ],
   "source": [
    "torch.bmm(a0, a1)"
   ]
  },
  {
   "cell_type": "code",
   "execution_count": 32,
   "id": "1294e838-e8bc-4f14-956c-e88c005e218a",
   "metadata": {},
   "outputs": [
    {
     "data": {
      "text/plain": [
       "tensor([[[  28,   34],\n",
       "         [  76,   98]],\n",
       "\n",
       "        [[ 428,  466],\n",
       "         [ 604,  658]],\n",
       "\n",
       "        [[1340, 1410],\n",
       "         [1644, 1730]]])"
      ]
     },
     "execution_count": 32,
     "metadata": {},
     "output_type": "execute_result"
    }
   ],
   "source": [
    "torch.matmul(a0, a1)"
   ]
  },
  {
   "cell_type": "markdown",
   "id": "75de1b73-445b-450f-bb86-aa80897df997",
   "metadata": {},
   "source": [
    "## 6.Tensorを扱う関数"
   ]
  },
  {
   "cell_type": "code",
   "execution_count": 33,
   "id": "afbbc6eb-7315-48cf-aa34-5cc9ea6ed09e",
   "metadata": {},
   "outputs": [],
   "source": [
    "a = torch.tensor([1, 2, 3])"
   ]
  },
  {
   "cell_type": "code",
   "execution_count": 34,
   "id": "56f7031d-83b2-4fb3-a8b0-bed9a2992110",
   "metadata": {},
   "outputs": [
    {
     "data": {
      "text/plain": [
       "tensor([0.8415, 0.9093, 0.1411])"
      ]
     },
     "execution_count": 34,
     "metadata": {},
     "output_type": "execute_result"
    }
   ],
   "source": [
    "torch.sin(a)"
   ]
  },
  {
   "cell_type": "code",
   "execution_count": 35,
   "id": "c77a6525-a08c-4759-bc88-78cf6c9c7477",
   "metadata": {},
   "outputs": [
    {
     "data": {
      "text/plain": [
       "tensor([0.0000, 0.6931, 1.0986])"
      ]
     },
     "execution_count": 35,
     "metadata": {},
     "output_type": "execute_result"
    }
   ],
   "source": [
    "torch.log(a)"
   ]
  },
  {
   "cell_type": "markdown",
   "id": "67bd4a25-0325-465e-ba2d-155c1826d870",
   "metadata": {},
   "source": [
    "## 7. Tensorの型と型の変換"
   ]
  },
  {
   "cell_type": "code",
   "execution_count": 36,
   "id": "77d9850f-a952-4ee9-9841-656aa380df15",
   "metadata": {},
   "outputs": [],
   "source": [
    "a0 = torch.tensor([1, 2, 3])"
   ]
  },
  {
   "cell_type": "code",
   "execution_count": 37,
   "id": "383f5ad1-746b-418d-956c-ce462b2c656e",
   "metadata": {},
   "outputs": [
    {
     "data": {
      "text/plain": [
       "torch.int64"
      ]
     },
     "execution_count": 37,
     "metadata": {},
     "output_type": "execute_result"
    }
   ],
   "source": [
    "a0.dtype"
   ]
  },
  {
   "cell_type": "code",
   "execution_count": 38,
   "id": "8ad92b0b-eea3-4d51-8e2d-88fb614be4ab",
   "metadata": {},
   "outputs": [
    {
     "data": {
      "text/plain": [
       "'torch.LongTensor'"
      ]
     },
     "execution_count": 38,
     "metadata": {},
     "output_type": "execute_result"
    }
   ],
   "source": [
    "a0.type()"
   ]
  },
  {
   "cell_type": "markdown",
   "id": "7d18b1ee-a078-45f2-9a21-0f3d7bfa1dfb",
   "metadata": {},
   "source": [
    "#### 理想の型を得るには？ <br><br>　①生成時にdtypeで型を指定する　<br>　②type()を使ってtensorの型を変換する"
   ]
  },
  {
   "cell_type": "code",
   "execution_count": 39,
   "id": "62c12075-bba5-4792-bd66-a21f78782045",
   "metadata": {},
   "outputs": [
    {
     "data": {
      "text/plain": [
       "'torch.LongTensor'"
      ]
     },
     "execution_count": 39,
     "metadata": {},
     "output_type": "execute_result"
    }
   ],
   "source": [
    "a0 = torch.tensor([1, 2, 3])\n",
    "a0.type()"
   ]
  },
  {
   "cell_type": "code",
   "execution_count": 40,
   "id": "e93c1aa6-327b-4e3d-86c6-946e15aa5eac",
   "metadata": {},
   "outputs": [
    {
     "data": {
      "text/plain": [
       "'torch.FloatTensor'"
      ]
     },
     "execution_count": 40,
     "metadata": {},
     "output_type": "execute_result"
    }
   ],
   "source": [
    "a0 = torch.tensor([1, 2, 3], dtype=torch.float)\n",
    "a0.type()"
   ]
  },
  {
   "cell_type": "markdown",
   "id": "477e27eb-acd3-4a4d-a85b-54b8ee526ae1",
   "metadata": {},
   "source": [
    "## 8. TensorとNumPy"
   ]
  },
  {
   "cell_type": "markdown",
   "id": "e299e2f7-8556-413b-8755-eba6bd8b1207",
   "metadata": {},
   "source": [
    "numpy() または　from_numpy()"
   ]
  },
  {
   "cell_type": "code",
   "execution_count": 41,
   "id": "148e3680-51b2-4101-854c-a78416a480fb",
   "metadata": {},
   "outputs": [
    {
     "data": {
      "text/plain": [
       "torch.int64"
      ]
     },
     "execution_count": 41,
     "metadata": {},
     "output_type": "execute_result"
    }
   ],
   "source": [
    "a0 = torch.tensor([1, 2, 3])\n",
    "a0.dtype"
   ]
  },
  {
   "cell_type": "code",
   "execution_count": 43,
   "id": "d9e19746-23a1-497a-a174-803475fb1ed7",
   "metadata": {},
   "outputs": [
    {
     "data": {
      "text/plain": [
       "dtype('int64')"
      ]
     },
     "execution_count": 43,
     "metadata": {},
     "output_type": "execute_result"
    }
   ],
   "source": [
    "b0 = a0.numpy()\n",
    "b0.dtype"
   ]
  },
  {
   "cell_type": "code",
   "execution_count": 45,
   "id": "343f9155-cd09-4846-b6fc-38a7a628dfd1",
   "metadata": {},
   "outputs": [
    {
     "data": {
      "text/plain": [
       "torch.int64"
      ]
     },
     "execution_count": 45,
     "metadata": {},
     "output_type": "execute_result"
    }
   ],
   "source": [
    "a1 = torch.from_numpy(b0)\n",
    "a1.dtype"
   ]
  },
  {
   "cell_type": "markdown",
   "id": "69f880ed-6f14-46df-b626-c0bec1c7e26f",
   "metadata": {},
   "source": [
    "### 注意：配列tensorに微分の情報が付与されている時には、それをdetach()で切り離してから出ないとnumpy()を使えない"
   ]
  },
  {
   "cell_type": "code",
   "execution_count": 47,
   "id": "e8a2f608-50d9-4fc4-9149-b1fa02ef08f2",
   "metadata": {},
   "outputs": [
    {
     "data": {
      "text/plain": [
       "torch.float32"
      ]
     },
     "execution_count": 47,
     "metadata": {},
     "output_type": "execute_result"
    }
   ],
   "source": [
    "a = torch.tensor([1., ], requires_grad=True)\n",
    "a.dtype"
   ]
  },
  {
   "cell_type": "code",
   "execution_count": 48,
   "id": "bf5ae702-125c-4c0e-8660-c5da8807b74a",
   "metadata": {},
   "outputs": [
    {
     "ename": "RuntimeError",
     "evalue": "Can't call numpy() on Tensor that requires grad. Use tensor.detach().numpy() instead.",
     "output_type": "error",
     "traceback": [
      "\u001b[0;31m---------------------------------------------------------------------------\u001b[0m",
      "\u001b[0;31mRuntimeError\u001b[0m                              Traceback (most recent call last)",
      "\u001b[0;32m<ipython-input-48-15350bfc0609>\u001b[0m in \u001b[0;36m<module>\u001b[0;34m\u001b[0m\n\u001b[0;32m----> 1\u001b[0;31m \u001b[0mb\u001b[0m \u001b[0;34m=\u001b[0m \u001b[0ma\u001b[0m\u001b[0;34m.\u001b[0m\u001b[0mnumpy\u001b[0m\u001b[0;34m(\u001b[0m\u001b[0;34m)\u001b[0m\u001b[0;34m\u001b[0m\u001b[0;34m\u001b[0m\u001b[0m\n\u001b[0m",
      "\u001b[0;31mRuntimeError\u001b[0m: Can't call numpy() on Tensor that requires grad. Use tensor.detach().numpy() instead."
     ]
    }
   ],
   "source": [
    "b = a.numpy()"
   ]
  },
  {
   "cell_type": "code",
   "execution_count": 50,
   "id": "21ab5edd-431c-4cdd-bc87-762bd93097f1",
   "metadata": {},
   "outputs": [
    {
     "data": {
      "text/plain": [
       "dtype('float32')"
      ]
     },
     "execution_count": 50,
     "metadata": {},
     "output_type": "execute_result"
    }
   ],
   "source": [
    "b = a.detach().numpy()\n",
    "b.dtype"
   ]
  },
  {
   "cell_type": "markdown",
   "id": "86b621fd-53cc-45d8-9989-7a184e44389e",
   "metadata": {},
   "source": [
    "## 9. Tensorの結合"
   ]
  },
  {
   "cell_type": "markdown",
   "id": "aeaed8d7-3083-4863-a052-71bc44101d81",
   "metadata": {},
   "source": [
    "#### 縦に結合：cat()　横に結合：cat( , dim=1)"
   ]
  },
  {
   "cell_type": "code",
   "execution_count": 52,
   "id": "65afbe3c-a8bb-4c87-b8ce-9596f90f35ac",
   "metadata": {},
   "outputs": [],
   "source": [
    "a = torch.zeros(6).reshape(2, 3)\n",
    "b = torch.ones(6).reshape(2, 3)"
   ]
  },
  {
   "cell_type": "code",
   "execution_count": 53,
   "id": "6f34956c-83ea-486a-a068-47a594aa5270",
   "metadata": {},
   "outputs": [
    {
     "data": {
      "text/plain": [
       "tensor([[0., 0., 0.],\n",
       "        [0., 0., 0.],\n",
       "        [1., 1., 1.],\n",
       "        [1., 1., 1.]])"
      ]
     },
     "execution_count": 53,
     "metadata": {},
     "output_type": "execute_result"
    }
   ],
   "source": [
    "torch.cat([a, b])"
   ]
  },
  {
   "cell_type": "code",
   "execution_count": 54,
   "id": "b4ad5f7f-2225-4b69-a187-ea881eb41c88",
   "metadata": {},
   "outputs": [
    {
     "data": {
      "text/plain": [
       "tensor([[0., 0., 0., 1., 1., 1.],\n",
       "        [0., 0., 0., 1., 1., 1.]])"
      ]
     },
     "execution_count": 54,
     "metadata": {},
     "output_type": "execute_result"
    }
   ],
   "source": [
    "torch.cat([a, b], dim=1)"
   ]
  },
  {
   "cell_type": "markdown",
   "id": "343d4f18-2010-472c-a96f-d56a6750a94d",
   "metadata": {},
   "source": [
    "#### 同じ形状の複数の配列をリストして、それをバッチにする：stack()"
   ]
  },
  {
   "cell_type": "code",
   "execution_count": 55,
   "id": "c8044bb2-34c5-478d-9a29-e64ae714dcca",
   "metadata": {},
   "outputs": [],
   "source": [
    "a = torch.zeros(6).reshape(2, 3)\n",
    "b = torch.ones(6).reshape(2, 3)\n",
    "c = b + 1"
   ]
  },
  {
   "cell_type": "code",
   "execution_count": 56,
   "id": "618495ab-f7c6-4f4a-8453-5c540fff2688",
   "metadata": {},
   "outputs": [
    {
     "data": {
      "text/plain": [
       "tensor([[[0., 0., 0.],\n",
       "         [0., 0., 0.]],\n",
       "\n",
       "        [[1., 1., 1.],\n",
       "         [1., 1., 1.]],\n",
       "\n",
       "        [[2., 2., 2.],\n",
       "         [2., 2., 2.]]])"
      ]
     },
     "execution_count": 56,
     "metadata": {},
     "output_type": "execute_result"
    }
   ],
   "source": [
    "torch.stack([a, b, c])"
   ]
  },
  {
   "cell_type": "markdown",
   "id": "bd85b3ed-1ff4-4b0a-8d89-4f37e73ceb94",
   "metadata": {},
   "source": [
    "## 10. Tensorの軸の操作"
   ]
  },
  {
   "cell_type": "markdown",
   "id": "189f5256-c3d0-4d33-b073-12dd388c27d4",
   "metadata": {},
   "source": [
    "#### 軸の削除:squeeze()　１つだけの配列をバッチにする:unsqueeze()"
   ]
  },
  {
   "cell_type": "code",
   "execution_count": 57,
   "id": "824a7d2c-95c5-4932-90a0-268ad8cf88f7",
   "metadata": {},
   "outputs": [
    {
     "data": {
      "text/plain": [
       "tensor([[0, 1, 2],\n",
       "        [3, 4, 5]])"
      ]
     },
     "execution_count": 57,
     "metadata": {},
     "output_type": "execute_result"
    }
   ],
   "source": [
    "a = torch.arange(6).reshape(2, 3)\n",
    "a"
   ]
  },
  {
   "cell_type": "code",
   "execution_count": 58,
   "id": "062bacde-5cea-4984-87da-0a7403e95c3a",
   "metadata": {},
   "outputs": [
    {
     "data": {
      "text/plain": [
       "tensor([[[0, 1, 2],\n",
       "         [3, 4, 5]]])"
      ]
     },
     "execution_count": 58,
     "metadata": {},
     "output_type": "execute_result"
    }
   ],
   "source": [
    "a.unsqueeze(0)"
   ]
  },
  {
   "cell_type": "markdown",
   "id": "9ecf83be-c808-4835-b274-9d036d3db9cd",
   "metadata": {},
   "source": [
    "#### 軸の入れ替え：permute()"
   ]
  },
  {
   "cell_type": "code",
   "execution_count": 59,
   "id": "14c00a2b-4396-48d8-a3d3-c1882f48ee2c",
   "metadata": {},
   "outputs": [
    {
     "data": {
      "text/plain": [
       "tensor([[[ 0,  1,  2],\n",
       "         [ 3,  4,  5]],\n",
       "\n",
       "        [[ 6,  7,  8],\n",
       "         [ 9, 10, 11]]])"
      ]
     },
     "execution_count": 59,
     "metadata": {},
     "output_type": "execute_result"
    }
   ],
   "source": [
    "a = torch.arange(12).reshape(2, 2, -1)\n",
    "a"
   ]
  },
  {
   "cell_type": "code",
   "execution_count": 60,
   "id": "ca8c368f-ec05-40d2-8823-22d8da515fe4",
   "metadata": {},
   "outputs": [
    {
     "data": {
      "text/plain": [
       "tensor([[[ 0,  3],\n",
       "         [ 6,  9]],\n",
       "\n",
       "        [[ 1,  4],\n",
       "         [ 7, 10]],\n",
       "\n",
       "        [[ 2,  5],\n",
       "         [ 8, 11]]])"
      ]
     },
     "execution_count": 60,
     "metadata": {},
     "output_type": "execute_result"
    }
   ],
   "source": [
    "a.permute(2, 0, 1)"
   ]
  },
  {
   "cell_type": "markdown",
   "id": "16b7c3e6-4fa0-42c0-8bfc-6303b491f07b",
   "metadata": {},
   "source": [
    "## 11. Tensorと自動微分"
   ]
  },
  {
   "cell_type": "markdown",
   "id": "1716d2d7-9a53-4a14-b8f3-690a389c8ec6",
   "metadata": {},
   "source": [
    "#### 微分値を求める必要のあるtensorはrequires_gradという属性の値をTrueに設定する"
   ]
  },
  {
   "cell_type": "code",
   "execution_count": 61,
   "id": "0bf19837-5448-4452-befc-9eb0fd06dcfa",
   "metadata": {},
   "outputs": [
    {
     "name": "stdout",
     "output_type": "stream",
     "text": [
      "x = [1.7999999523162842, -2.799999952316284, -0.20000004768371582], f = 42.153594970703125\n",
      "x = [0.5199999809265137, 3.0623998641967773, 0.2736000418663025], f = 44.64966583251953\n",
      "x = [1.840959906578064, -0.7920883893966675, 1.940259575843811], f = 13.31693172454834\n",
      "x = [1.355932593345642, 3.3104195594787598, 0.9540495872497559], f = 44.90733337402344\n",
      "x = [2.6089138984680176, -0.30887460708618164, 1.1799352169036865], f = 7.81975793838501\n",
      "x = [2.163581371307373, 3.376239776611328, 2.0792925357818604], f = 68.47846984863281\n",
      "x = [3.2813611030578613, -1.4577455520629883, -0.7837600708007812], f = 28.027585983276367\n",
      "x = [2.241990566253662, 4.343071937561035, 2.2835428714752197], f = 135.9388427734375\n",
      "x = [3.730821132659912, -3.319580078125, -4.015127182006836], f = 240.7893524169922\n",
      "x = [1.8568247556686401, 15.504944801330566, 10.041937828063965], f = 24842.201171875\n",
      "x = [7.88743782043457, -314.8707275390625, -471.8345642089844], f = 22072229888.0\n",
      "x = [-119.43834686279297, 14019840.0, 9355692.0], f = 1.7204337856322997e+28\n",
      "x = [5607840.5, -2.4542844676815926e+20, -3.6778333216009565e+20], f = inf\n",
      "x = [-9.817138222570091e+19, inf, inf], f = inf\n",
      "x = [inf, nan, nan], f = nan\n",
      "x = [nan, nan, nan], f = nan\n",
      "x = [nan, nan, nan], f = nan\n",
      "x = [nan, nan, nan], f = nan\n",
      "x = [nan, nan, nan], f = nan\n",
      "x = [nan, nan, nan], f = nan\n",
      "x = [nan, nan, nan], f = nan\n",
      "x = [nan, nan, nan], f = nan\n",
      "x = [nan, nan, nan], f = nan\n",
      "x = [nan, nan, nan], f = nan\n",
      "x = [nan, nan, nan], f = nan\n",
      "x = [nan, nan, nan], f = nan\n",
      "x = [nan, nan, nan], f = nan\n",
      "x = [nan, nan, nan], f = nan\n",
      "x = [nan, nan, nan], f = nan\n",
      "x = [nan, nan, nan], f = nan\n",
      "x = [nan, nan, nan], f = nan\n",
      "x = [nan, nan, nan], f = nan\n",
      "x = [nan, nan, nan], f = nan\n",
      "x = [nan, nan, nan], f = nan\n",
      "x = [nan, nan, nan], f = nan\n",
      "x = [nan, nan, nan], f = nan\n",
      "x = [nan, nan, nan], f = nan\n",
      "x = [nan, nan, nan], f = nan\n",
      "x = [nan, nan, nan], f = nan\n",
      "x = [nan, nan, nan], f = nan\n",
      "x = [nan, nan, nan], f = nan\n",
      "x = [nan, nan, nan], f = nan\n",
      "x = [nan, nan, nan], f = nan\n",
      "x = [nan, nan, nan], f = nan\n",
      "x = [nan, nan, nan], f = nan\n",
      "x = [nan, nan, nan], f = nan\n",
      "x = [nan, nan, nan], f = nan\n",
      "x = [nan, nan, nan], f = nan\n",
      "x = [nan, nan, nan], f = nan\n",
      "x = [nan, nan, nan], f = nan\n"
     ]
    }
   ],
   "source": [
    "import torch\n",
    "\n",
    "def f(x1, x2, x3):\n",
    "    return (x1 - 2*x2 - 1)**2 + (x2 * x3 - 1)**2 + 1\n",
    "\n",
    "\n",
    "def f_grad(x1, x2, x3):\n",
    "    z = f(x1, x2, x3)\n",
    "    z.backward()\n",
    "    return (x1.grad, x2.grad, x3.grad)\n",
    "\n",
    "\n",
    "\n",
    "x1 = torch.tensor([1.], requires_grad=True)\n",
    "x2 = torch.tensor([2.], requires_grad=True)\n",
    "x3 = torch.tensor([3.], requires_grad=True)\n",
    "\n",
    "for i in range(50):\n",
    "    g1, g2, g3 = f_grad(x1, x2, x3)\n",
    "    \n",
    "    x1 = x1 - 0.1 * g1\n",
    "    x2 = x1 - 0.1 * g2    \n",
    "    x3 = x1 - 0.1 * g3\n",
    "    \n",
    "    x1 = x1.detach().requires_grad_(True)\n",
    "    x2 = x2.detach().requires_grad_(True)    \n",
    "    x3 = x3.detach().requires_grad_(True)    \n",
    "    \n",
    "    print('x = [{}, {}, {}], f = {}'.format(x1.item(), x2.item(), x3.item(), f(x1, x2, x3).item()))"
   ]
  },
  {
   "cell_type": "code",
   "execution_count": 63,
   "id": "71c774ad-1d2d-427d-bb8f-c3be19a3f6de",
   "metadata": {},
   "outputs": [
    {
     "name": "stdout",
     "output_type": "stream",
     "text": [
      "x = tensor([1.8000, 0.8000, 2.6000], requires_grad=True), f = 9.479999542236328\n",
      "x = tensor([1.9600, 1.0400, 2.0400], requires_grad=True), f = 6.254400253295898\n",
      "x = tensor([2.1840, 0.9920, 1.6400], requires_grad=True), f = 4.355903625488281\n",
      "x = tensor([2.3440, 1.0016, 1.3104], requires_grad=True), f = 3.1475019454956055\n",
      "x = tensor([2.4758, 0.9997, 1.0486], requires_grad=True), f = 2.374390125274658\n",
      "x = tensor([2.5805, 1.0001, 0.8388], requires_grad=True), f = 1.8796093463897705\n",
      "x = tensor([2.6645, 1.0000, 0.6711], requires_grad=True), f = 1.5629498958587646\n",
      "x = tensor([2.7316, 1.0000, 0.5369], requires_grad=True), f = 1.3602879047393799\n",
      "x = tensor([2.7853, 1.0000, 0.4295], requires_grad=True), f = 1.2305842638015747\n",
      "x = tensor([2.8282, 1.0000, 0.3436], requires_grad=True), f = 1.1475739479064941\n",
      "x = tensor([2.8626, 1.0000, 0.2749], requires_grad=True), f = 1.094447374343872\n",
      "x = tensor([2.8900, 1.0000, 0.2199], requires_grad=True), f = 1.0604462623596191\n",
      "x = tensor([2.9120, 1.0000, 0.1759], requires_grad=True), f = 1.03868567943573\n",
      "x = tensor([2.9296, 1.0000, 0.1407], requires_grad=True), f = 1.0247588157653809\n",
      "x = tensor([2.9437, 1.0000, 0.1126], requires_grad=True), f = 1.0158456563949585\n",
      "x = tensor([2.9550, 1.0000, 0.0901], requires_grad=True), f = 1.010141134262085\n",
      "x = tensor([2.9640, 1.0000, 0.0721], requires_grad=True), f = 1.0064903497695923\n",
      "x = tensor([2.9712, 1.0000, 0.0576], requires_grad=True), f = 1.004153847694397\n",
      "x = tensor([2.9769, 1.0000, 0.0461], requires_grad=True), f = 1.002658486366272\n",
      "x = tensor([2.9816, 1.0000, 0.0369], requires_grad=True), f = 1.0017013549804688\n",
      "x = tensor([2.9852, 1.0000, 0.0295], requires_grad=True), f = 1.0010888576507568\n",
      "x = tensor([2.9882, 1.0000, 0.0236], requires_grad=True), f = 1.0006968975067139\n",
      "x = tensor([2.9906, 1.0000, 0.0189], requires_grad=True), f = 1.0004459619522095\n",
      "x = tensor([2.9924, 1.0000, 0.0151], requires_grad=True), f = 1.0002853870391846\n",
      "x = tensor([2.9940, 1.0000, 0.0121], requires_grad=True), f = 1.0001826286315918\n",
      "x = tensor([2.9952, 1.0000, 0.0097], requires_grad=True), f = 1.0001169443130493\n",
      "x = tensor([2.9961, 1.0000, 0.0077], requires_grad=True), f = 1.000074863433838\n",
      "x = tensor([2.9969, 1.0000, 0.0062], requires_grad=True), f = 1.0000479221343994\n",
      "x = tensor([2.9975, 1.0000, 0.0050], requires_grad=True), f = 1.0000306367874146\n",
      "x = tensor([2.9980, 1.0000, 0.0040], requires_grad=True), f = 1.0000196695327759\n",
      "x = tensor([2.9984, 1.0000, 0.0032], requires_grad=True), f = 1.0000125169754028\n",
      "x = tensor([2.9987e+00, 1.0000e+00, 2.5354e-03], requires_grad=True), f = 1.0000079870224\n",
      "x = tensor([2.9990e+00, 1.0000e+00, 2.0284e-03], requires_grad=True), f = 1.0000051259994507\n",
      "x = tensor([2.9992e+00, 1.0000e+00, 1.6227e-03], requires_grad=True), f = 1.0000033378601074\n",
      "x = tensor([2.9994e+00, 1.0000e+00, 1.2982e-03], requires_grad=True), f = 1.000002145767212\n",
      "x = tensor([2.9995e+00, 1.0000e+00, 1.0386e-03], requires_grad=True), f = 1.000001311302185\n",
      "x = tensor([2.9996e+00, 1.0000e+00, 8.3088e-04], requires_grad=True), f = 1.0000008344650269\n",
      "x = tensor([2.9997e+00, 1.0000e+00, 6.6473e-04], requires_grad=True), f = 1.0000005960464478\n",
      "x = tensor([2.9997e+00, 1.0000e+00, 5.3181e-04], requires_grad=True), f = 1.0000003576278687\n",
      "x = tensor([2.9998e+00, 1.0000e+00, 4.2548e-04], requires_grad=True), f = 1.000000238418579\n",
      "x = tensor([2.9998e+00, 1.0000e+00, 3.4041e-04], requires_grad=True), f = 1.0000001192092896\n",
      "x = tensor([2.9999e+00, 1.0000e+00, 2.7235e-04], requires_grad=True), f = 1.0000001192092896\n",
      "x = tensor([2.9999e+00, 1.0000e+00, 2.1791e-04], requires_grad=True), f = 1.0\n",
      "x = tensor([2.9999e+00, 1.0000e+00, 1.7435e-04], requires_grad=True), f = 1.0\n",
      "x = tensor([2.9999e+00, 1.0000e+00, 1.3951e-04], requires_grad=True), f = 1.0\n",
      "x = tensor([2.9999e+00, 1.0000e+00, 1.1160e-04], requires_grad=True), f = 1.0\n",
      "x = tensor([3.0000e+00, 1.0000e+00, 8.9283e-05], requires_grad=True), f = 1.0\n",
      "x = tensor([3.0000e+00, 1.0000e+00, 7.1425e-05], requires_grad=True), f = 1.0\n",
      "x = tensor([3.0000e+00, 1.0000e+00, 5.7144e-05], requires_grad=True), f = 1.0\n",
      "x = tensor([3.0000e+00, 1.0000e+00, 4.5712e-05], requires_grad=True), f = 1.0\n"
     ]
    }
   ],
   "source": [
    "import torch\n",
    "\n",
    "def f(x):\n",
    "    return (x[0] - 2*x[1] - 1)**2 + (x[1] - x[2] - 1)**2 + 1\n",
    "\n",
    "\n",
    "def f_grad(x):\n",
    "    z = f(x)\n",
    "    z.backward()\n",
    "    return x.grad\n",
    "\n",
    "\n",
    "\n",
    "x = torch.tensor([1., 2., 3.], requires_grad=True)\n",
    "\n",
    "for i in range(50):\n",
    "    x = x - 0.1*f_grad(x) \n",
    "    x = x.detach().requires_grad_(True)\n",
    "\n",
    "    print('x = {}, f = {}'.format(x, f(x)))"
   ]
  },
  {
   "cell_type": "code",
   "execution_count": null,
   "id": "9cfb64d3-f345-467e-b40e-d9b2882fdac0",
   "metadata": {},
   "outputs": [],
   "source": []
  }
 ],
 "metadata": {
  "kernelspec": {
   "display_name": "Python 3",
   "language": "python",
   "name": "python3"
  },
  "language_info": {
   "codemirror_mode": {
    "name": "ipython",
    "version": 3
   },
   "file_extension": ".py",
   "mimetype": "text/x-python",
   "name": "python",
   "nbconvert_exporter": "python",
   "pygments_lexer": "ipython3",
   "version": "3.8.8"
  }
 },
 "nbformat": 4,
 "nbformat_minor": 5
}
