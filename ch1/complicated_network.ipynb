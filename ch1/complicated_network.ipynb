{
 "cells": [
  {
   "cell_type": "code",
   "execution_count": 1,
   "id": "c7ed1b22-f4d9-4934-96d1-5112d05c13c5",
   "metadata": {},
   "outputs": [],
   "source": [
    "import torch\n",
    "import torch.nn as nn\n",
    "import torch.optim as optim\n",
    "import torch.nn.functional as F\n",
    "import numpy as np"
   ]
  },
  {
   "cell_type": "code",
   "execution_count": 7,
   "id": "1d226f72-2fd2-4fcb-b9a1-24d26b6b0d9f",
   "metadata": {},
   "outputs": [],
   "source": [
    "device = torch.device(\"cuda:0\" if torch.cuda.is_available() else \"cpu\")"
   ]
  },
  {
   "cell_type": "code",
   "execution_count": 4,
   "id": "2d890a94-c626-48c6-9877-540bc2c68431",
   "metadata": {},
   "outputs": [],
   "source": [
    "from torchvision import datasets\n",
    "\n",
    "dataset = datasets.MNIST('./data', train=True, download=True)\n",
    "\n",
    "x0 = dataset.data.reshape(60000,1,28,28) / 255.0\n",
    "y01 = dataset.targets\n",
    "y02 = dataset.targets\n",
    "for i in range(len(y02)):\n",
    "    if (y02[i] in [6, 8, 9]):\n",
    "        y02[i] = 1\n",
    "    else:\n",
    "        y02[i] = 0"
   ]
  },
  {
   "cell_type": "markdown",
   "id": "8f693378-33ea-4eef-ac20-b1e3ea966f4e",
   "metadata": {},
   "source": [
    "# 層が分岐するネットワーク"
   ]
  },
  {
   "cell_type": "code",
   "execution_count": 5,
   "id": "3a6a4656-fdb2-4a4c-8f6e-18d274586e9a",
   "metadata": {},
   "outputs": [],
   "source": [
    "class MyCNN2(nn.Module):\n",
    "    def __init__(self):\n",
    "        super().__init__()\n",
    "        self.cn1 = nn.Conv2d(1, 20, 5)\n",
    "        self.pool1 = nn.MaxPool2d(2)\n",
    "        self.cn2 = nn.Conv2d(20, 50, 5)\n",
    "        self.dropout = nn.Dropout(p=0.4)\n",
    "        self.fc = nn.Linear(3200, 10)\n",
    "        self.fc2 = nn.Linear(3200, 2)\n",
    "        \n",
    "    def forward(self, x):\n",
    "        x = F.relu(self.cn1(x))\n",
    "        x = self.pool1(x)\n",
    "        x = F.relu(self.cn2(x))\n",
    "        x = self.dropout(x)\n",
    "        x = x.reshape(len(x), -1)\n",
    "        return x"
   ]
  },
  {
   "cell_type": "code",
   "execution_count": 8,
   "id": "9f016b08-446f-49cf-8ffe-ddebdeadce34",
   "metadata": {},
   "outputs": [],
   "source": [
    "model = MyCNN2().to(device)\n",
    "optimizer = optim.SGD(model.parameters(), lr=0.01, momentum=0.9)\n",
    "criterion = nn.CrossEntropyLoss()"
   ]
  },
  {
   "cell_type": "code",
   "execution_count": 10,
   "id": "60360bfb-0299-499a-a15f-6d7ce61d8a28",
   "metadata": {},
   "outputs": [
    {
     "name": "stderr",
     "output_type": "stream",
     "text": [
      "/home/takakiyuto/anaconda3/lib/python3.8/site-packages/torch/nn/functional.py:718: UserWarning: Named tensors and all their associated APIs are an experimental feature and subject to change. Please do not use them for anything important until they are released as stable. (Triggered internally at  /opt/conda/conda-bld/pytorch_1623448234945/work/c10/core/TensorImpl.h:1156.)\n",
      "  return torch.max_pool2d(input, kernel_size, stride, padding, dilation, ceil_mode)\n"
     ]
    },
    {
     "name": "stdout",
     "output_type": "stream",
     "text": [
      "cnn2-0.model saved\n",
      "cnn2-1.model saved\n",
      "cnn2-2.model saved\n",
      "cnn2-3.model saved\n",
      "cnn2-4.model saved\n",
      "cnn2-5.model saved\n",
      "cnn2-6.model saved\n",
      "cnn2-7.model saved\n",
      "cnn2-8.model saved\n",
      "cnn2-9.model saved\n"
     ]
    }
   ],
   "source": [
    "n = len(y01)\n",
    "bs = 200\n",
    "\n",
    "model.train()\n",
    "for j in range(10):\n",
    "    idx = np.random.permutation(n)\n",
    "    for i in range(0, n, bs):\n",
    "        x = x0[idx[i:(i+bs) if (i+bs) < n else n]].to(device)\n",
    "        y1 = y01[idx[i:(i+bs) if (i+bs) < n else n]].to(device) \n",
    "        y2 = y02[idx[i:(i+bs) if (i+bs) < n else n]].to(device) \n",
    "        cnnx = model(x)\n",
    "        out1 = model.fc(cnnx)\n",
    "        out2 = model.fc2(cnnx)\n",
    "        loss1 = criterion(out1, y1)\n",
    "        loss2 = criterion(out2, y2)\n",
    "        loss = loss1 + loss2\n",
    "        optimizer.zero_grad()\n",
    "        loss.backward()\n",
    "        optimizer.step()\n",
    "        \n",
    "    outfile = 'cnn2-' + str(j) + '.model'\n",
    "    torch.save(model.state_dict(), outfile)\n",
    "    print(outfile, 'saved')"
   ]
  },
  {
   "cell_type": "code",
   "execution_count": 11,
   "id": "0c320f5b-2964-4fad-a888-d97db0695dd9",
   "metadata": {},
   "outputs": [],
   "source": [
    "dataset = datasets.MNIST('./data', train=False, download=True)\n",
    "xt = dataset.data.reshape(10000,1,28,28) / 255.0\n",
    "yans1 = dataset.targets\n",
    "yans2 = dataset.targets\n",
    "for i in range(len(yans2)):\n",
    "    if (yans2[i] in [6, 8, 9]):\n",
    "        yans2[i] = 1\n",
    "    else:\n",
    "        yans2[i] = 0"
   ]
  },
  {
   "cell_type": "code",
   "execution_count": 13,
   "id": "0fa74795-0447-44af-bb23-1a19269c0f02",
   "metadata": {},
   "outputs": [],
   "source": [
    "model = MyCNN2()\n",
    "model.load_state_dict(torch.load('cnn2-9.model'))\n",
    "optimizer = optim.SGD(model.parameters(), lr=0.01, momentum=0.9)\n",
    "criterion = nn.CrossEntropyLoss()"
   ]
  },
  {
   "cell_type": "code",
   "execution_count": 14,
   "id": "d9ad85d1-d914-4834-a7f5-92124e0d8271",
   "metadata": {},
   "outputs": [
    {
     "name": "stdout",
     "output_type": "stream",
     "text": [
      "0.9916999936103821\n",
      "0.9914000034332275\n"
     ]
    }
   ],
   "source": [
    "model.eval()\n",
    "with torch.no_grad():\n",
    "    cnnx = model(xt)\n",
    "    out1 = model.fc(cnnx)\n",
    "    out2 = model.fc2(cnnx)\n",
    "    ans1 = torch.argmax(out1, 1)\n",
    "    ans2 = torch.argmax(out2, 1)    \n",
    "    print(((yans1 == ans1).sum().float()/len(ans1)).item())\n",
    "    print(((yans2 == ans2).sum().float()/len(ans2)).item())  "
   ]
  },
  {
   "cell_type": "markdown",
   "id": "83f2e637-5ef8-47c7-88f9-97c56a7902e2",
   "metadata": {},
   "source": [
    "# 複数のモデルの混在"
   ]
  },
  {
   "cell_type": "code",
   "execution_count": 15,
   "id": "559d45ef-e76d-48a5-b10d-820173260886",
   "metadata": {},
   "outputs": [],
   "source": [
    "class MyCNN(nn.Module):\n",
    "    def __init__(self):\n",
    "        super().__init__()\n",
    "        self.cn1 = nn.Conv2d(1, 20, 5)\n",
    "        self.pool1 = nn.MaxPool2d(2)\n",
    "        self.cn2 = nn.Conv2d(20, 50, 5)\n",
    "        self.dropout = nn.Dropout(p=0.4)\n",
    "        self.fc = nn.Linear(3200, 10)\n",
    "        \n",
    "    def forward(self, x):\n",
    "        x = F.relu(self.cn1(x))\n",
    "        x = self.pool1(x)\n",
    "        x = F.relu(self.cn2(x))\n",
    "        x = self.dropout(x)\n",
    "        x = x.view(len(x), -1)\n",
    "        return self.fc(x)"
   ]
  },
  {
   "cell_type": "code",
   "execution_count": null,
   "id": "b2a98a4b-e064-466a-8c12-bc8caa813291",
   "metadata": {},
   "outputs": [],
   "source": []
  }
 ],
 "metadata": {
  "kernelspec": {
   "display_name": "Python 3",
   "language": "python",
   "name": "python3"
  },
  "language_info": {
   "codemirror_mode": {
    "name": "ipython",
    "version": 3
   },
   "file_extension": ".py",
   "mimetype": "text/x-python",
   "name": "python",
   "nbconvert_exporter": "python",
   "pygments_lexer": "ipython3",
   "version": "3.8.8"
  }
 },
 "nbformat": 4,
 "nbformat_minor": 5
}
